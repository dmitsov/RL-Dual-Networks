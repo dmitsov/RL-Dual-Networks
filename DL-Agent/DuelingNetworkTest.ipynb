{
  "nbformat": 4,
  "nbformat_minor": 0,
  "metadata": {
    "colab": {
      "name": "DuelingNetworkTest.ipynb",
      "provenance": [],
      "collapsed_sections": []
    },
    "kernelspec": {
      "name": "python3",
      "display_name": "Python 3"
    },
    "accelerator": "GPU"
  },
  "cells": [
    {
      "cell_type": "markdown",
      "metadata": {
        "id": "OBPLX5fhMg43"
      },
      "source": [
        "**Dueling Network Test**"
      ]
    },
    {
      "cell_type": "code",
      "metadata": {
        "colab": {
          "base_uri": "https://localhost:8080/"
        },
        "id": "d0O07rsGMcFh",
        "outputId": "9a4bb182-c12a-48bf-8c51-c455ba7daf91"
      },
      "source": [
        "import os\r\n",
        "from google.colab import drive\r\n",
        "drive.mount('/content/gdrive')"
      ],
      "execution_count": 3,
      "outputs": [
        {
          "output_type": "stream",
          "text": [
            "Mounted at /content/gdrive\n"
          ],
          "name": "stdout"
        }
      ]
    },
    {
      "cell_type": "code",
      "metadata": {
        "colab": {
          "base_uri": "https://localhost:8080/"
        },
        "id": "CrB_wSm-Mqhw",
        "outputId": "ccc0235c-e7e9-40a1-992a-8264f5e765eb"
      },
      "source": [
        "%cd /content\r\n",
        "DRIVE_PATH = '/content/gdrive/My\\ Drive/DL-Agent'\r\n",
        "DRIVE_PYTHON_PATH = DRIVE_PATH.replace('\\\\', '')\r\n",
        "if not os.path.exists(DRIVE_PYTHON_PATH):\r\n",
        "  %mkdir $DRIVE_PATH\r\n",
        "\r\n",
        "\r\n",
        "## the space in `My Drive` causes some issues,\r\n",
        "## make a symlink to avoid this\r\n",
        "SYM_PATH = '/content/DL-Agent'\r\n",
        "if not os.path.exists(SYM_PATH):\r\n",
        "  !ln -s $DRIVE_PATH $SYM_PATH\r\n",
        "\r\n",
        "%cd $SYM_PATH"
      ],
      "execution_count": 5,
      "outputs": [
        {
          "output_type": "stream",
          "text": [
            "/content\n",
            "/content/gdrive/My Drive/DL-Agent\n"
          ],
          "name": "stdout"
        }
      ]
    },
    {
      "cell_type": "code",
      "metadata": {
        "colab": {
          "base_uri": "https://localhost:8080/"
        },
        "id": "_b8GCPKOM_31",
        "outputId": "de2b0cd4-7c08-464b-94d1-97e27fe314b6"
      },
      "source": [
        "\r\n",
        "!apt update \r\n",
        "!apt install -y --no-install-recommends \\\r\n",
        "        build-essential \\\r\n",
        "        curl \\\r\n",
        "        git \\\r\n",
        "        gnupg2 \\\r\n",
        "        make \\\r\n",
        "        cmake \\\r\n",
        "        ffmpeg \\\r\n",
        "        swig \\\r\n",
        "        libz-dev \\\r\n",
        "        unzip \\\r\n",
        "        zlib1g-dev \\\r\n",
        "        libglfw3 \\\r\n",
        "        libglfw3-dev \\\r\n",
        "        libxrandr2 \\\r\n",
        "        libxinerama-dev \\\r\n",
        "        libxi6 \\\r\n",
        "        libxcursor-dev \\\r\n",
        "        libgl1-mesa-dev \\\r\n",
        "        libgl1-mesa-glx \\\r\n",
        "        libglew-dev \\\r\n",
        "        libosmesa6-dev \\\r\n",
        "        lsb-release \\\r\n",
        "        ack-grep \\\r\n",
        "        patchelf \\\r\n",
        "        wget \\\r\n",
        "        xpra \\\r\n",
        "        xserver-xorg-dev \\\r\n",
        "        xvfb \\\r\n",
        "        python-opengl \\\r\n",
        "        ffmpeg > /dev/null 2>&1\r\n",
        "\r\n",
        "!pip install opencv-python==3.4.0.12"
      ],
      "execution_count": 6,
      "outputs": [
        {
          "output_type": "stream",
          "text": [
            "\u001b[33m\r0% [Working]\u001b[0m\r            \rGet:1 https://cloud.r-project.org/bin/linux/ubuntu bionic-cran40/ InRelease [3,626 B]\n",
            "\u001b[33m\r0% [Connecting to archive.ubuntu.com] [Connecting to security.ubuntu.com (91.18\u001b[0m\u001b[33m\r0% [Connecting to archive.ubuntu.com] [Connecting to security.ubuntu.com (91.18\u001b[0m\u001b[33m\r0% [1 InRelease gpgv 3,626 B] [Connecting to archive.ubuntu.com] [Waiting for h\u001b[0m\r                                                                               \rIgn:2 https://developer.download.nvidia.com/compute/cuda/repos/ubuntu1804/x86_64  InRelease\n",
            "\u001b[33m\r0% [1 InRelease gpgv 3,626 B] [Connecting to archive.ubuntu.com] [Waiting for h\u001b[0m\r                                                                               \rIgn:3 https://developer.download.nvidia.com/compute/machine-learning/repos/ubuntu1804/x86_64  InRelease\n",
            "\u001b[33m\r0% [1 InRelease gpgv 3,626 B] [Connecting to archive.ubuntu.com] [Waiting for h\u001b[0m\r                                                                               \rGet:4 http://security.ubuntu.com/ubuntu bionic-security InRelease [88.7 kB]\n",
            "\u001b[33m\r0% [1 InRelease gpgv 3,626 B] [Connecting to archive.ubuntu.com] [4 InRelease 1\u001b[0m\r                                                                               \rHit:5 https://developer.download.nvidia.com/compute/cuda/repos/ubuntu1804/x86_64  Release\n",
            "Hit:6 https://developer.download.nvidia.com/compute/machine-learning/repos/ubuntu1804/x86_64  Release\n",
            "Get:7 http://ppa.launchpad.net/c2d4u.team/c2d4u4.0+/ubuntu bionic InRelease [15.9 kB]\n",
            "Hit:8 http://archive.ubuntu.com/ubuntu bionic InRelease\n",
            "Get:9 http://archive.ubuntu.com/ubuntu bionic-updates InRelease [88.7 kB]\n",
            "Hit:11 http://ppa.launchpad.net/cran/libgit2/ubuntu bionic InRelease\n",
            "Hit:13 http://ppa.launchpad.net/graphics-drivers/ppa/ubuntu bionic InRelease\n",
            "Get:14 http://archive.ubuntu.com/ubuntu bionic-backports InRelease [74.6 kB]\n",
            "Get:15 http://ppa.launchpad.net/c2d4u.team/c2d4u4.0+/ubuntu bionic/main Sources [1,715 kB]\n",
            "Get:16 http://archive.ubuntu.com/ubuntu bionic-updates/universe amd64 Packages [2,149 kB]\n",
            "Get:17 http://ppa.launchpad.net/c2d4u.team/c2d4u4.0+/ubuntu bionic/main amd64 Packages [878 kB]\n",
            "Fetched 5,014 kB in 4s (1,333 kB/s)\n",
            "Reading package lists... Done\n",
            "Building dependency tree       \n",
            "Reading state information... Done\n",
            "16 packages can be upgraded. Run 'apt list --upgradable' to see them.\n",
            "Collecting opencv-python==3.4.0.12\n",
            "\u001b[?25l  Downloading https://files.pythonhosted.org/packages/50/f9/5c454f0f52788a913979877e6ed9b2454a9c7676581a0ee3a2d81db784a6/opencv_python-3.4.0.12-cp36-cp36m-manylinux1_x86_64.whl (24.9MB)\n",
            "\u001b[K     |████████████████████████████████| 24.9MB 6.2MB/s \n",
            "\u001b[?25hRequirement already satisfied: numpy>=1.11.3 in /usr/local/lib/python3.6/dist-packages (from opencv-python==3.4.0.12) (1.19.5)\n",
            "\u001b[31mERROR: dopamine-rl 1.0.5 has requirement opencv-python>=3.4.1.15, but you'll have opencv-python 3.4.0.12 which is incompatible.\u001b[0m\n",
            "\u001b[31mERROR: albumentations 0.1.12 has requirement imgaug<0.2.7,>=0.2.5, but you'll have imgaug 0.2.9 which is incompatible.\u001b[0m\n",
            "Installing collected packages: opencv-python\n",
            "  Found existing installation: opencv-python 4.1.2.30\n",
            "    Uninstalling opencv-python-4.1.2.30:\n",
            "      Successfully uninstalled opencv-python-4.1.2.30\n",
            "Successfully installed opencv-python-3.4.0.12\n"
          ],
          "name": "stdout"
        }
      ]
    },
    {
      "cell_type": "code",
      "metadata": {
        "colab": {
          "base_uri": "https://localhost:8080/",
          "height": 246
        },
        "id": "oqGyJUNPNAzG",
        "outputId": "7d2cec82-8790-4afc-a3e9-73726e6092e5"
      },
      "source": [
        "%pip install -r requirements_colab.txt \r\n",
        "video_path = os.path.join(SYM_PATH, 'video')\r\n",
        "os.chdir(SYM_PATH)\r\n",
        "!pwd\r\n",
        "\r\n",
        "required_files = ['AtariWrappers.py', \r\n",
        "                  'ReplayBuffer.py', 'DL_Agent.py', \r\n",
        "                  'EnvironmentUtility.py', \r\n",
        "                  'DDQN.py',\r\n",
        "                  'Logger.py',\r\n",
        "                  'PolicyUtility.py']\r\n",
        "for f in required_files:\r\n",
        "  assert os.path.isfile(f)"
      ],
      "execution_count": 4,
      "outputs": [
        {
          "output_type": "stream",
          "text": [
            "\u001b[31mERROR: Could not open requirements file: [Errno 2] No such file or directory: 'requirements_colab.txt'\u001b[0m\n"
          ],
          "name": "stdout"
        },
        {
          "output_type": "error",
          "ename": "NameError",
          "evalue": "ignored",
          "traceback": [
            "\u001b[0;31m---------------------------------------------------------------------------\u001b[0m",
            "\u001b[0;31mNameError\u001b[0m                                 Traceback (most recent call last)",
            "\u001b[0;32m<ipython-input-4-df006d8981e2>\u001b[0m in \u001b[0;36m<module>\u001b[0;34m()\u001b[0m\n\u001b[1;32m      1\u001b[0m \u001b[0mget_ipython\u001b[0m\u001b[0;34m(\u001b[0m\u001b[0;34m)\u001b[0m\u001b[0;34m.\u001b[0m\u001b[0mmagic\u001b[0m\u001b[0;34m(\u001b[0m\u001b[0;34m'pip install -r requirements_colab.txt'\u001b[0m\u001b[0;34m)\u001b[0m\u001b[0;34m\u001b[0m\u001b[0;34m\u001b[0m\u001b[0m\n\u001b[0;32m----> 2\u001b[0;31m \u001b[0mvideo_path\u001b[0m \u001b[0;34m=\u001b[0m \u001b[0mos\u001b[0m\u001b[0;34m.\u001b[0m\u001b[0mpath\u001b[0m\u001b[0;34m.\u001b[0m\u001b[0mjoin\u001b[0m\u001b[0;34m(\u001b[0m\u001b[0mSYM_PATH\u001b[0m\u001b[0;34m,\u001b[0m \u001b[0;34m'video'\u001b[0m\u001b[0;34m)\u001b[0m\u001b[0;34m\u001b[0m\u001b[0;34m\u001b[0m\u001b[0m\n\u001b[0m\u001b[1;32m      3\u001b[0m \u001b[0mos\u001b[0m\u001b[0;34m.\u001b[0m\u001b[0mchdir\u001b[0m\u001b[0;34m(\u001b[0m\u001b[0mSYM_PATH\u001b[0m\u001b[0;34m)\u001b[0m\u001b[0;34m\u001b[0m\u001b[0;34m\u001b[0m\u001b[0m\n\u001b[1;32m      4\u001b[0m \u001b[0mget_ipython\u001b[0m\u001b[0;34m(\u001b[0m\u001b[0;34m)\u001b[0m\u001b[0;34m.\u001b[0m\u001b[0msystem\u001b[0m\u001b[0;34m(\u001b[0m\u001b[0;34m'pwd'\u001b[0m\u001b[0;34m)\u001b[0m\u001b[0;34m\u001b[0m\u001b[0;34m\u001b[0m\u001b[0m\n\u001b[1;32m      5\u001b[0m \u001b[0;34m\u001b[0m\u001b[0m\n",
            "\u001b[0;31mNameError\u001b[0m: name 'SYM_PATH' is not defined"
          ]
        }
      ]
    },
    {
      "cell_type": "code",
      "metadata": {
        "id": "zysSeaLkRXiM"
      },
      "source": [
        " from DL_Agent import runLearning\r\n",
        "\r\n",
        " runLearning(False,['params_v1'], SYM_PATH)"
      ],
      "execution_count": null,
      "outputs": []
    }
  ]
}